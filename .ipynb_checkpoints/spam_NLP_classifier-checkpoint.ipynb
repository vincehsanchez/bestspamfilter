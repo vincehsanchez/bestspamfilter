{
 "cells": [
  {
   "cell_type": "code",
   "execution_count": null,
   "id": "b84d827a-13fd-4b4c-abb1-ac8627d96a9b",
   "metadata": {},
   "outputs": [],
   "source": [
    "vs branch testing"
   ]
  }
 ],
 "metadata": {
  "kernelspec": {
   "display_name": "Python 3 (ipykernel)",
   "language": "python",
   "name": "python3"
  },
  "language_info": {
   "codemirror_mode": {
    "name": "ipython",
    "version": 3
   },
   "file_extension": ".py",
   "mimetype": "text/x-python",
   "name": "python",
   "nbconvert_exporter": "python",
   "pygments_lexer": "ipython3",
   "version": "3.10.13"
  }
 },
 "nbformat": 4,
 "nbformat_minor": 5
}
