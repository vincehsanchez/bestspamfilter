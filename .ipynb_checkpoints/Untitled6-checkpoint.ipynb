{
 "cells": [
  {
   "cell_type": "code",
   "execution_count": 1,
   "id": "f706dbde-51fa-4799-9fa1-a107cd5488c6",
   "metadata": {},
   "outputs": [],
   "source": [
    "#lets get crackn\n",
    "import os\n",
    "import chardet #for detecting encoding\n",
    "from email import policy\n",
    "from email.parser import BytesParser\n",
    "#^^these two above work for MIME format^^\n",
    "import numpy as np\n",
    "import pandas as pd\n",
    "import matplotlib.pyplot as plt\n",
    "import string\n",
    "import nltk\n",
    "from nltk.corpus import stopwords\n",
    "from sklearn.feature_extraction.text import CountVectorizer #vectoring is after preporcessing\n",
    "from sklearn.model_selection import train_test_split\n",
    "import gensim\n",
    "import nltk\n",
    "from nltk.corpus import PlaintextCorpusReader\n",
    "import pandas as pd\n",
    "import mimetypes\n",
    "import pandas as pd\n",
    "import string\n",
    "from nltk.tokenize import word_tokenize\n",
    "from nltk.corpus import stopwords\n",
    "from nltk.stem import PorterStemmer\n",
    "import nltk\n",
    "#download stuff for nltk if need be\n",
    "#nltk.download('stopwords')\n",
    "#^^this is to update stopwords^^"
   ]
  },
  {
   "cell_type": "markdown",
   "id": "1aa7ea83-1080-452c-a465-8a3b218a09f1",
   "metadata": {},
   "source": [
    "# Vectorization"
   ]
  },
  {
   "cell_type": "code",
   "execution_count": 2,
   "id": "87804b2e-a876-44f6-8be8-ae39a77345f9",
   "metadata": {},
   "outputs": [
    {
     "data": {
      "text/html": [
       "<div>\n",
       "<style scoped>\n",
       "    .dataframe tbody tr th:only-of-type {\n",
       "        vertical-align: middle;\n",
       "    }\n",
       "\n",
       "    .dataframe tbody tr th {\n",
       "        vertical-align: top;\n",
       "    }\n",
       "\n",
       "    .dataframe thead th {\n",
       "        text-align: right;\n",
       "    }\n",
       "</style>\n",
       "<table border=\"1\" class=\"dataframe\">\n",
       "  <thead>\n",
       "    <tr style=\"text-align: right;\">\n",
       "      <th></th>\n",
       "      <th>label</th>\n",
       "      <th>port_stem_processed</th>\n",
       "    </tr>\n",
       "  </thead>\n",
       "  <tbody>\n",
       "    <tr>\n",
       "      <th>0</th>\n",
       "      <td>spam</td>\n",
       "      <td>forkadminxentcom thu aug 8 180404 2002 returnp...</td>\n",
       "    </tr>\n",
       "    <tr>\n",
       "      <th>1</th>\n",
       "      <td>ham</td>\n",
       "      <td>forkadminxentcom mon sep 9 104627 2002 returnp...</td>\n",
       "    </tr>\n",
       "    <tr>\n",
       "      <th>2</th>\n",
       "      <td>ham</td>\n",
       "      <td>forkadminxentcom wed sep 25 102454 2002 return...</td>\n",
       "    </tr>\n",
       "    <tr>\n",
       "      <th>3</th>\n",
       "      <td>ham</td>\n",
       "      <td>ilugadminlinuxi fri jul 19 171450 2002 returnp...</td>\n",
       "    </tr>\n",
       "    <tr>\n",
       "      <th>4</th>\n",
       "      <td>spam</td>\n",
       "      <td>mraimecoilcipcmsncom mon jul 22 183925 2002 re...</td>\n",
       "    </tr>\n",
       "    <tr>\n",
       "      <th>...</th>\n",
       "      <td>...</td>\n",
       "      <td>...</td>\n",
       "    </tr>\n",
       "    <tr>\n",
       "      <th>5795</th>\n",
       "      <td>ham</td>\n",
       "      <td>rpmlistadminfreshrpmsnet fri jul 26 111510 200...</td>\n",
       "    </tr>\n",
       "    <tr>\n",
       "      <th>5796</th>\n",
       "      <td>ham</td>\n",
       "      <td>forkadminxentcom mon sep 23 224747 2002 return...</td>\n",
       "    </tr>\n",
       "    <tr>\n",
       "      <th>5797</th>\n",
       "      <td>ham</td>\n",
       "      <td>forkadminxentcom mon aug 26 153153 2002 return...</td>\n",
       "    </tr>\n",
       "    <tr>\n",
       "      <th>5798</th>\n",
       "      <td>spam</td>\n",
       "      <td>receiv hqpronsnet localhost 127001 hqpronsnet ...</td>\n",
       "    </tr>\n",
       "    <tr>\n",
       "      <th>5799</th>\n",
       "      <td>ham</td>\n",
       "      <td>rssfeedsjmasonorg mon sep 30 133742 2002 retur...</td>\n",
       "    </tr>\n",
       "  </tbody>\n",
       "</table>\n",
       "<p>5800 rows × 2 columns</p>\n",
       "</div>"
      ],
      "text/plain": [
       "     label                                port_stem_processed\n",
       "0     spam  forkadminxentcom thu aug 8 180404 2002 returnp...\n",
       "1      ham  forkadminxentcom mon sep 9 104627 2002 returnp...\n",
       "2      ham  forkadminxentcom wed sep 25 102454 2002 return...\n",
       "3      ham  ilugadminlinuxi fri jul 19 171450 2002 returnp...\n",
       "4     spam  mraimecoilcipcmsncom mon jul 22 183925 2002 re...\n",
       "...    ...                                                ...\n",
       "5795   ham  rpmlistadminfreshrpmsnet fri jul 26 111510 200...\n",
       "5796   ham  forkadminxentcom mon sep 23 224747 2002 return...\n",
       "5797   ham  forkadminxentcom mon aug 26 153153 2002 return...\n",
       "5798  spam  receiv hqpronsnet localhost 127001 hqpronsnet ...\n",
       "5799   ham  rssfeedsjmasonorg mon sep 30 133742 2002 retur...\n",
       "\n",
       "[5800 rows x 2 columns]"
      ]
     },
     "execution_count": 2,
     "metadata": {},
     "output_type": "execute_result"
    }
   ],
   "source": [
    "# making all ham and spam dataframe  \n",
    "ham_spam_all_portStemm = pd.read_csv(\"Resources/processed_emails/ham_spam_portStemm.csv\")\n",
    "#lets shuffle\n",
    "shuffled_emails_portStemm = ham_spam_all_portStemm.sample(frac=1, random_state=41).reset_index(drop=True) #41 for Zeb!\n",
    "shuffled_emails_portStemm = shuffled_emails_portStemm.drop(columns=['text_content'])\n",
    "shuffled_emails_portStemm"
   ]
  },
  {
   "cell_type": "code",
   "execution_count": 3,
   "id": "e3ce610f-0f87-4359-bde8-0078c0f05d2a",
   "metadata": {},
   "outputs": [
    {
     "data": {
      "text/plain": [
       "4350"
      ]
     },
     "execution_count": 3,
     "metadata": {},
     "output_type": "execute_result"
    }
   ],
   "source": [
    "#this is 75% of the data after being shuffled\n",
    "split_index = int(5800 * 0.75)\n",
    "split_index"
   ]
  },
  {
   "cell_type": "code",
   "execution_count": 4,
   "id": "b57547c9-3232-4217-897d-5dba179e4e6c",
   "metadata": {},
   "outputs": [
    {
     "data": {
      "text/plain": [
       "1450"
      ]
     },
     "execution_count": 4,
     "metadata": {},
     "output_type": "execute_result"
    }
   ],
   "source": [
    "#this is 25% of the data after being shuffled\n",
    "rest_of_index = 5800-4350\n",
    "rest_of_index"
   ]
  },
  {
   "cell_type": "code",
   "execution_count": 5,
   "id": "a82e3522-9dd5-4f0c-a57f-990125c1099a",
   "metadata": {},
   "outputs": [
    {
     "data": {
      "text/plain": [
       "5800"
      ]
     },
     "execution_count": 5,
     "metadata": {},
     "output_type": "execute_result"
    }
   ],
   "source": [
    "#check that we have all total emails\n",
    "index_check = (split_index+rest_of_index)\n",
    "index_check"
   ]
  },
  {
   "cell_type": "code",
   "execution_count": 6,
   "id": "dade4e3f-2dde-45c7-b519-f5563880a3d1",
   "metadata": {},
   "outputs": [
    {
     "data": {
      "text/plain": [
       "(     label                                port_stem_processed\n",
       " 0      ham  forkadminxentcom mon sep 9 104627 2002 returnp...\n",
       " 1      ham  forkadminxentcom wed sep 25 102454 2002 return...\n",
       " 2      ham  ilugadminlinuxi fri jul 19 171450 2002 returnp...\n",
       " 3     spam  mraimecoilcipcmsncom mon jul 22 183925 2002 re...\n",
       " 4      ham  rssfeedsjmasonorg wed sep 25 102324 2002 retur...\n",
       " ...    ...                                                ...\n",
       " 4344   ham  forkadminxentcom fri sep 6 183554 2002 returnp...\n",
       " 4345  spam  beautyinfufuxxxmeb13mxyaolcom tue oct 8 110232...\n",
       " 4346  spam  receiv hqpronsnet localhost 127001 hqpronsnet ...\n",
       " 4347   ham  forkadminxentcom mon aug 12 110907 2002 return...\n",
       " 4348   ham  nobodysonicspamtrapstaintorg wed aug 7 143904 ...\n",
       " \n",
       " [4349 rows x 2 columns],\n",
       "      label                                port_stem_processed\n",
       " 0      ham  forkadminxentcom wed oct 9 105517 2002 returnp...\n",
       " 1      ham  returnpath gwardpythonnet deliveryd wed sep 11...\n",
       " 2      ham  forkadminxentcom wed oct 9 105512 2002 returnp...\n",
       " 3      ham  ilugadminlinuxi tue jul 30 105221 2002 returnp...\n",
       " 4      ham  rssfeedsjmasonorg thu oct 3 122519 2002 return...\n",
       " ...    ...                                                ...\n",
       " 1444   ham  rpmlistadminfreshrpmsnet fri jul 26 111510 200...\n",
       " 1445   ham  forkadminxentcom mon sep 23 224747 2002 return...\n",
       " 1446   ham  forkadminxentcom mon aug 26 153153 2002 return...\n",
       " 1447  spam  receiv hqpronsnet localhost 127001 hqpronsnet ...\n",
       " 1448   ham  rssfeedsjmasonorg mon sep 30 133742 2002 retur...\n",
       " \n",
       " [1449 rows x 2 columns])"
      ]
     },
     "execution_count": 6,
     "metadata": {},
     "output_type": "execute_result"
    }
   ],
   "source": [
    "#lets split up the data of 5800 rows of two columns\n",
    "seventy_five_dataset = shuffled_emails_portStemm.iloc[1:4350,:] # we use : to include all columns\n",
    "seventy_five_dataset = seventy_five_dataset.reset_index(drop=True)\n",
    "twenty_five_dataset = shuffled_emails_portStemm.iloc[4351:5800,:]\n",
    "twenty_five_dataset = twenty_five_dataset.reset_index(drop=True)\n",
    "seventy_five_dataset, twenty_five_dataset"
   ]
  },
  {
   "cell_type": "code",
   "execution_count": null,
   "id": "fb9e3eee-786b-4ede-8e84-21411de2b0c7",
   "metadata": {},
   "outputs": [],
   "source": [
    "from sklearn.feature_extraction.text import CountVectorizer, TfidfVectorizer\n",
    "#clean it up\n",
    "seventy_five_dataset['label'] = seventy_five_dataset['label'].map({'ham': 0, 'spam':1})#works\n",
    "#Start the vectorizer\n",
    "vectorizer = TfidfVectorizer()\n",
    "#vectorize the tokens...hopefully\n",
    "X = vectorizer.fit_transform(seventy_five_dataset['port_stem_processed'])\n",
    "#lets see if it worked...\n",
    "print(X.shape)"
   ]
  },
  {
   "cell_type": "markdown",
   "id": "379da0b6-e32e-40d4-90da-4b87415b57c6",
   "metadata": {},
   "source": [
    "# Data Preperation"
   ]
  },
  {
   "cell_type": "code",
   "execution_count": null,
   "id": "b98de64e-f394-4ce3-adcd-2cb8d1c6891b",
   "metadata": {},
   "outputs": [],
   "source": [
    "print(type(X))\n",
    "#confirms that it is stored as a sparse matrix"
   ]
  },
  {
   "cell_type": "code",
   "execution_count": null,
   "id": "c211423d-7756-4412-b6f7-4bcee47d9e10",
   "metadata": {},
   "outputs": [],
   "source": [
    "#now lets get y (labels)\n",
    "y = seventy_five_dataset['label']\n",
    "print(y)"
   ]
  },
  {
   "cell_type": "markdown",
   "id": "8842bb40-6fb6-41aa-b6b0-31700b731ebb",
   "metadata": {},
   "source": [
    "# Training !"
   ]
  },
  {
   "cell_type": "code",
   "execution_count": null,
   "id": "88948cb3-bcd1-4e1a-ac05-bc72970ebbd5",
   "metadata": {},
   "outputs": [],
   "source": [
    "from sklearn.model_selection import train_test_split\n",
    "from warnings import simplefilter\n",
    "simplefilter(action='ignore', category=FutureWarning)\n",
    "import pandas as pd\n",
    "from pathlib import Path\n",
    "from sklearn.metrics import classification_report\n",
    "from sklearn.preprocessing import StandardScaler\n",
    "# Split the dataset using train_test_split\n",
    "X_train, X_test, y_train, y_test = train_test_split(X, y, random_state=41) #41 for Zeb!"
   ]
  }
 ],
 "metadata": {
  "kernelspec": {
   "display_name": "Python 3 (ipykernel)",
   "language": "python",
   "name": "python3"
  },
  "language_info": {
   "codemirror_mode": {
    "name": "ipython",
    "version": 3
   },
   "file_extension": ".py",
   "mimetype": "text/x-python",
   "name": "python",
   "nbconvert_exporter": "python",
   "pygments_lexer": "ipython3",
   "version": "3.10.13"
  }
 },
 "nbformat": 4,
 "nbformat_minor": 5
}
