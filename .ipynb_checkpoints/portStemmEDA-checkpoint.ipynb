{
 "cells": [
  {
   "cell_type": "markdown",
   "id": "384e77a3-ff59-4e63-bf81-3bb86576ec21",
   "metadata": {},
   "source": [
    "# EDA"
   ]
  },
  {
   "cell_type": "code",
   "execution_count": null,
   "id": "df9a051a-2a02-4555-bea3-f44160c77df0",
   "metadata": {},
   "outputs": [],
   "source": [
    "#import to csv\n",
    "import csv\n",
    "ham_spam_all_df_bow.to_csv('Resources/processed_emails/ham_spam_bow.csv', index=False, quoting=csv.QUOTE_ALL, encoding='utf-8-sig')"
   ]
  }
 ],
 "metadata": {
  "kernelspec": {
   "display_name": "Python 3 (ipykernel)",
   "language": "python",
   "name": "python3"
  },
  "language_info": {
   "codemirror_mode": {
    "name": "ipython",
    "version": 3
   },
   "file_extension": ".py",
   "mimetype": "text/x-python",
   "name": "python",
   "nbconvert_exporter": "python",
   "pygments_lexer": "ipython3",
   "version": "3.10.13"
  }
 },
 "nbformat": 4,
 "nbformat_minor": 5
}
