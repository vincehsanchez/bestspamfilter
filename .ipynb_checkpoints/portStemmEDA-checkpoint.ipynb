{
 "cells": [
  {
   "cell_type": "markdown",
   "id": "384e77a3-ff59-4e63-bf81-3bb86576ec21",
   "metadata": {},
   "source": [
    "# EDA"
   ]
  },
  {
   "cell_type": "code",
   "execution_count": 2,
   "id": "8ec1b86b-5ec6-4989-bf38-c6d310084be7",
   "metadata": {},
   "outputs": [],
   "source": [
    "#lets get crackn\n",
    "import os\n",
    "import chardet #for detecting encoding\n",
    "from email import policy\n",
    "from email.parser import BytesParser\n",
    "#^^these two above work for MIME format^^\n",
    "import numpy as np\n",
    "import pandas as pd\n",
    "import matplotlib.pyplot as plt\n",
    "import string\n",
    "import nltk\n",
    "from nltk.corpus import stopwords\n",
    "from sklearn.feature_extraction.text import CountVectorizer #vectoring is after preporcessing\n",
    "from sklearn.model_selection import train_test_split\n",
    "import gensim\n",
    "import nltk\n",
    "from nltk.corpus import PlaintextCorpusReader\n",
    "import pandas as pd\n",
    "import mimetypes\n",
    "import pandas as pd\n",
    "import string\n",
    "from nltk.tokenize import word_tokenize\n",
    "from nltk.corpus import stopwords\n",
    "from nltk.stem import PorterStemmer\n",
    "import nltk\n",
    "#download stuff for nltk if need be\n",
    "#nltk.download('stopwords')\n",
    "#^^this is to update stopwords^^"
   ]
  },
  {
   "cell_type": "markdown",
   "id": "ec12a734-d7fc-40d7-836a-23a6df8165e5",
   "metadata": {},
   "source": [
    "# What so we see?"
   ]
  },
  {
   "cell_type": "code",
   "execution_count": 13,
   "id": "e96575bc-9a78-418b-a6df-ccedda1e993c",
   "metadata": {},
   "outputs": [],
   "source": [
    "# reading all ham and spam dataframe  \n",
    "ham_spam_all = pd.read_csv(\"Resources/Labeled_CSVs/ham_spam_all_labeled.csv\")"
   ]
  },
  {
   "cell_type": "code",
   "execution_count": 17,
   "id": "5b9daee7-8c1b-4234-b7b6-da62896bc4f5",
   "metadata": {},
   "outputs": [
    {
     "name": "stdout",
     "output_type": "stream",
     "text": [
      "Length of first email: 2026\n"
     ]
    }
   ],
   "source": [
    "length_of_email = len(ham_spam_all['text_content'][0])\n",
    "print(f'Length of first email: {length_of_email}')"
   ]
  },
  {
   "cell_type": "code",
   "execution_count": 18,
   "id": "1ff7cc92-33ca-49e6-a718-c8d13c497486",
   "metadata": {},
   "outputs": [
    {
     "data": {
      "text/html": [
       "<div>\n",
       "<style scoped>\n",
       "    .dataframe tbody tr th:only-of-type {\n",
       "        vertical-align: middle;\n",
       "    }\n",
       "\n",
       "    .dataframe tbody tr th {\n",
       "        vertical-align: top;\n",
       "    }\n",
       "\n",
       "    .dataframe thead th {\n",
       "        text-align: right;\n",
       "    }\n",
       "</style>\n",
       "<table border=\"1\" class=\"dataframe\">\n",
       "  <thead>\n",
       "    <tr style=\"text-align: right;\">\n",
       "      <th></th>\n",
       "      <th>text_content</th>\n",
       "      <th>label</th>\n",
       "      <th>Length</th>\n",
       "    </tr>\n",
       "  </thead>\n",
       "  <tbody>\n",
       "    <tr>\n",
       "      <th>0</th>\n",
       "      <td>From pamela4701@eudoramail.com  Mon Sep  9 10:...</td>\n",
       "      <td>spam</td>\n",
       "      <td>2026</td>\n",
       "    </tr>\n",
       "    <tr>\n",
       "      <th>1</th>\n",
       "      <td>From apf@wu-wien.ac.at  Thu Sep 19 13:01:55 20...</td>\n",
       "      <td>spam</td>\n",
       "      <td>2634</td>\n",
       "    </tr>\n",
       "    <tr>\n",
       "      <th>2</th>\n",
       "      <td>From pmg@insiq.us  Wed Sep  4 11:54:50 2002\\nR...</td>\n",
       "      <td>spam</td>\n",
       "      <td>7897</td>\n",
       "    </tr>\n",
       "    <tr>\n",
       "      <th>3</th>\n",
       "      <td>From karen_duarte@emailaccount.com  Tue Sep  3...</td>\n",
       "      <td>spam</td>\n",
       "      <td>3017</td>\n",
       "    </tr>\n",
       "    <tr>\n",
       "      <th>4</th>\n",
       "      <td>From stats@websitetracker.com  Fri Aug 23 15:0...</td>\n",
       "      <td>spam</td>\n",
       "      <td>3349</td>\n",
       "    </tr>\n",
       "    <tr>\n",
       "      <th>5</th>\n",
       "      <td>From samurislugs1647k84@yahoo.com  Mon Sep  2 ...</td>\n",
       "      <td>spam</td>\n",
       "      <td>3111</td>\n",
       "    </tr>\n",
       "    <tr>\n",
       "      <th>6</th>\n",
       "      <td>From samurislugs1647k84@yahoo.com  Mon Sep  2 ...</td>\n",
       "      <td>spam</td>\n",
       "      <td>3111</td>\n",
       "    </tr>\n",
       "    <tr>\n",
       "      <th>7</th>\n",
       "      <td>From dega_jc271@hotmail.com  Tue Dec  3 11:57:...</td>\n",
       "      <td>spam</td>\n",
       "      <td>6403</td>\n",
       "    </tr>\n",
       "    <tr>\n",
       "      <th>8</th>\n",
       "      <td>From simply-amateur-zzzz=spamassassin.taint.or...</td>\n",
       "      <td>spam</td>\n",
       "      <td>1965</td>\n",
       "    </tr>\n",
       "    <tr>\n",
       "      <th>9</th>\n",
       "      <td>From simply-amateur-zzzz=spamassassin.taint.or...</td>\n",
       "      <td>spam</td>\n",
       "      <td>1965</td>\n",
       "    </tr>\n",
       "  </tbody>\n",
       "</table>\n",
       "</div>"
      ],
      "text/plain": [
       "                                        text_content label  Length\n",
       "0  From pamela4701@eudoramail.com  Mon Sep  9 10:...  spam    2026\n",
       "1  From apf@wu-wien.ac.at  Thu Sep 19 13:01:55 20...  spam    2634\n",
       "2  From pmg@insiq.us  Wed Sep  4 11:54:50 2002\\nR...  spam    7897\n",
       "3  From karen_duarte@emailaccount.com  Tue Sep  3...  spam    3017\n",
       "4  From stats@websitetracker.com  Fri Aug 23 15:0...  spam    3349\n",
       "5  From samurislugs1647k84@yahoo.com  Mon Sep  2 ...  spam    3111\n",
       "6  From samurislugs1647k84@yahoo.com  Mon Sep  2 ...  spam    3111\n",
       "7  From dega_jc271@hotmail.com  Tue Dec  3 11:57:...  spam    6403\n",
       "8  From simply-amateur-zzzz=spamassassin.taint.or...  spam    1965\n",
       "9  From simply-amateur-zzzz=spamassassin.taint.or...  spam    1965"
      ]
     },
     "execution_count": 18,
     "metadata": {},
     "output_type": "execute_result"
    }
   ],
   "source": [
    "ham_spam_all['Length'] = ham_spam_all['text_content'].str.len()\n",
    "ham_spam_all.head(10)"
   ]
  },
  {
   "cell_type": "code",
   "execution_count": 6,
   "id": "8e835b18-9127-4713-bca0-941cda36568b",
   "metadata": {},
   "outputs": [],
   "source": [
    "import pandas as pd\n",
    "from collections import Counter\n",
    "spam_messages = shuffled_emails_portStemm[shuffled_emails_portStemm[\"label\"] == \"spam\"]\n",
    "ham_messages = shuffled_emails_portStemm[shuffled_emails_portStemm[\"label\"] == \"ham\"]"
   ]
  },
  {
   "cell_type": "code",
   "execution_count": 7,
   "id": "5fcbc351-0f6a-4f97-bc10-86a506fd1bf4",
   "metadata": {},
   "outputs": [],
   "source": [
    "spam_words = Counter([word for sublist in spam_messages['port_stem_processed'] for word in sublist])\n",
    "ham_words = Counter([word for sublist in ham_messages['port_stem_processed'] for word in sublist])"
   ]
  },
  {
   "cell_type": "code",
   "execution_count": 8,
   "id": "3d284bbb-a9a2-4f5d-be1c-10cc3d6731e2",
   "metadata": {},
   "outputs": [],
   "source": [
    "top_20_spam_words = spam_words.most_common(20)\n",
    "top_20_ham_words = ham_words.most_common(20)"
   ]
  },
  {
   "cell_type": "code",
   "execution_count": 9,
   "id": "0fecb5e8-2e56-4633-ad50-c8c82d4eb367",
   "metadata": {},
   "outputs": [
    {
     "name": "stdout",
     "output_type": "stream",
     "text": [
      "Top 20 Spam Words:\n",
      "2002: 12170\n",
      "receiv: 10279\n",
      "td: 10259\n",
      "tr: 8203\n",
      "id: 6318\n",
      "br: 4549\n",
      "jul: 4416\n",
      "tabl: 4223\n",
      "esmtp: 4207\n",
      "font: 4189\n",
      "email: 4012\n",
      "0100: 3909\n",
      "p: 3280\n",
      "localhost: 3105\n",
      "helvetica: 2847\n",
      "mon: 2622\n",
      "aug: 2585\n",
      "may: 2566\n",
      "face3dari: 2365\n",
      "subject: 2353\n"
     ]
    }
   ],
   "source": [
    "#lets print\n",
    "print(\"Top 20 Spam Words:\")\n",
    "for word, count in top_20_spam_words:\n",
    "    print(f\"{word}: {count}\")"
   ]
  },
  {
   "cell_type": "code",
   "execution_count": 10,
   "id": "40ff5ff5-a6e4-46b2-9ddc-bc73fdd4fdff",
   "metadata": {},
   "outputs": [
    {
     "name": "stdout",
     "output_type": "stream",
     "text": [
      "\n",
      "Top 20 Ham Words:\n",
      "2002: 34312\n",
      "receiv: 23731\n",
      "id: 17969\n",
      "esmtp: 14515\n",
      "0100: 12513\n",
      "localhost: 12444\n",
      "aug: 12163\n",
      "127001: 10951\n",
      "sep: 9986\n",
      "postfix: 7454\n",
      "jmlocalhost: 6929\n",
      "wed: 6370\n",
      "mon: 6212\n",
      "ist: 5760\n",
      "tue: 5669\n",
      "thu: 5594\n",
      "jul: 5555\n",
      "deliveredto: 5341\n",
      "0400: 5239\n",
      "oct: 5137\n"
     ]
    }
   ],
   "source": [
    "#lets print\n",
    "print(\"\\nTop 20 Ham Words:\")\n",
    "for word, count in top_20_ham_words:\n",
    "    print(f\"{word}: {count}\")"
   ]
  },
  {
   "cell_type": "code",
   "execution_count": 26,
   "id": "4537ffe5-ec05-49d1-90b1-b47ca2b2819e",
   "metadata": {},
   "outputs": [],
   "source": [
    "#convert top20 lists to DataFrames\n",
    "spam_20_df = pd.DataFrame(top_20_spam_words, columns=['Word', 'Count'])\n",
    "spam_20_df_sorted = spam_20_df.sort_values(by='Count', ascending=True) #need to adjus chart orientation\n",
    "ham_20_df = pd.DataFrame(top_20_ham_words, columns=['Word', 'Count'])\n",
    "ham_20_df_sorted = ham_20_df.sort_values(by='Count', ascending=True) #need to adjus chart orientation"
   ]
  },
  {
   "cell_type": "code",
   "execution_count": 34,
   "id": "08bcb7f9-1b08-406a-afdb-1e94684485f9",
   "metadata": {},
   "outputs": [
    {
     "data": {
      "image/png": "[encoded data removed]",
      "text/plain": [
       "<Figure size 1000x800 with 1 Axes>"
      ]
     },
     "metadata": {},
     "output_type": "display_data"
    }
   ],
   "source": [
    "#plot for Top 20 Spam Words\n",
    "plt.figure(figsize=(10, 8))\n",
    "colors_bar = plt.cm.hsv(np.linspace(0, 1, 20))\n",
    "plt.barh(spam_20_df_sorted['Word'], spam_20_df_sorted['Count'], color=colors_bar)\n",
    "plt.title('Top 20 Spam Words')\n",
    "plt.xlabel('Words')\n",
    "plt.ylabel('Counts')\n",
    "plt.xticks(rotation=45, ha=\"right\")  # Rotate labels to avoid overlap\n",
    "plt.tight_layout()  # Adjust layout to make room for the rotated x-axis labels\n",
    "plt.show()"
   ]
  },
  {
   "cell_type": "code",
   "execution_count": 36,
   "id": "34d531f6-a0de-457a-9f8a-2a32e835cdce",
   "metadata": {},
   "outputs": [
    {
     "data": {
      "image/png": "[encoded data removed]",
      "text/plain": [
       "<Figure size 1000x800 with 1 Axes>"
      ]
     },
     "metadata": {},
     "output_type": "display_data"
    }
   ],
   "source": [
    "#plot for Top 20 Ham Words\n",
    "plt.figure(figsize=(10, 8))\n",
    "plt.barh(ham_20_df_sorted['Word'], ham_20_df_sorted['Count'], color=colors_bar)\n",
    "plt.title('Top 20 Ham Words')\n",
    "plt.xlabel('Words')\n",
    "plt.ylabel('Counts')\n",
    "plt.xticks(rotation=45, ha=\"right\")  # Rotate labels to avoid overlap\n",
    "plt.tight_layout()  # Adjust layout to make room for the rotated x-axis labels\n",
    "plt.show()"
   ]
  },
  {
   "cell_type": "markdown",
   "id": "f8ec96f4-ad85-4f0a-8f6f-bb222804aa12",
   "metadata": {},
   "source": [
    "# Port Stemming Processed EDA"
   ]
  },
  {
   "cell_type": "code",
   "execution_count": 3,
   "id": "df9a051a-2a02-4555-bea3-f44160c77df0",
   "metadata": {},
   "outputs": [
    {
     "data": {
      "text/html": [
       "<div>\n",
       "<style scoped>\n",
       "    .dataframe tbody tr th:only-of-type {\n",
       "        vertical-align: middle;\n",
       "    }\n",
       "\n",
       "    .dataframe tbody tr th {\n",
       "        vertical-align: top;\n",
       "    }\n",
       "\n",
       "    .dataframe thead th {\n",
       "        text-align: right;\n",
       "    }\n",
       "</style>\n",
       "<table border=\"1\" class=\"dataframe\">\n",
       "  <thead>\n",
       "    <tr style=\"text-align: right;\">\n",
       "      <th></th>\n",
       "      <th>label</th>\n",
       "      <th>port_stem_processed</th>\n",
       "    </tr>\n",
       "  </thead>\n",
       "  <tbody>\n",
       "    <tr>\n",
       "      <th>0</th>\n",
       "      <td>spam</td>\n",
       "      <td>forkadminxentcom thu aug 8 180404 2002 returnp...</td>\n",
       "    </tr>\n",
       "    <tr>\n",
       "      <th>1</th>\n",
       "      <td>ham</td>\n",
       "      <td>forkadminxentcom mon sep 9 104627 2002 returnp...</td>\n",
       "    </tr>\n",
       "    <tr>\n",
       "      <th>2</th>\n",
       "      <td>ham</td>\n",
       "      <td>forkadminxentcom wed sep 25 102454 2002 return...</td>\n",
       "    </tr>\n",
       "    <tr>\n",
       "      <th>3</th>\n",
       "      <td>ham</td>\n",
       "      <td>ilugadminlinuxi fri jul 19 171450 2002 returnp...</td>\n",
       "    </tr>\n",
       "    <tr>\n",
       "      <th>4</th>\n",
       "      <td>spam</td>\n",
       "      <td>mraimecoilcipcmsncom mon jul 22 183925 2002 re...</td>\n",
       "    </tr>\n",
       "    <tr>\n",
       "      <th>...</th>\n",
       "      <td>...</td>\n",
       "      <td>...</td>\n",
       "    </tr>\n",
       "    <tr>\n",
       "      <th>5795</th>\n",
       "      <td>ham</td>\n",
       "      <td>rpmlistadminfreshrpmsnet fri jul 26 111510 200...</td>\n",
       "    </tr>\n",
       "    <tr>\n",
       "      <th>5796</th>\n",
       "      <td>ham</td>\n",
       "      <td>forkadminxentcom mon sep 23 224747 2002 return...</td>\n",
       "    </tr>\n",
       "    <tr>\n",
       "      <th>5797</th>\n",
       "      <td>ham</td>\n",
       "      <td>forkadminxentcom mon aug 26 153153 2002 return...</td>\n",
       "    </tr>\n",
       "    <tr>\n",
       "      <th>5798</th>\n",
       "      <td>spam</td>\n",
       "      <td>receiv hqpronsnet localhost 127001 hqpronsnet ...</td>\n",
       "    </tr>\n",
       "    <tr>\n",
       "      <th>5799</th>\n",
       "      <td>ham</td>\n",
       "      <td>rssfeedsjmasonorg mon sep 30 133742 2002 retur...</td>\n",
       "    </tr>\n",
       "  </tbody>\n",
       "</table>\n",
       "<p>5800 rows × 2 columns</p>\n",
       "</div>"
      ],
      "text/plain": [
       "     label                                port_stem_processed\n",
       "0     spam  forkadminxentcom thu aug 8 180404 2002 returnp...\n",
       "1      ham  forkadminxentcom mon sep 9 104627 2002 returnp...\n",
       "2      ham  forkadminxentcom wed sep 25 102454 2002 return...\n",
       "3      ham  ilugadminlinuxi fri jul 19 171450 2002 returnp...\n",
       "4     spam  mraimecoilcipcmsncom mon jul 22 183925 2002 re...\n",
       "...    ...                                                ...\n",
       "5795   ham  rpmlistadminfreshrpmsnet fri jul 26 111510 200...\n",
       "5796   ham  forkadminxentcom mon sep 23 224747 2002 return...\n",
       "5797   ham  forkadminxentcom mon aug 26 153153 2002 return...\n",
       "5798  spam  receiv hqpronsnet localhost 127001 hqpronsnet ...\n",
       "5799   ham  rssfeedsjmasonorg mon sep 30 133742 2002 retur...\n",
       "\n",
       "[5800 rows x 2 columns]"
      ]
     },
     "execution_count": 3,
     "metadata": {},
     "output_type": "execute_result"
    }
   ],
   "source": [
    "# making all ham and spam dataframe for portstemm\n",
    "ham_spam_all_portStemm = pd.read_csv(\"Resources/processed_emails/ham_spam_portStemm.csv\")\n",
    "#lets shuffle\n",
    "shuffled_emails_portStemm = ham_spam_all_portStemm.sample(frac=1, random_state=41).reset_index(drop=True)\n",
    "shuffled_emails_portStemm = shuffled_emails_portStemm.drop(columns=['text_content'])\n",
    "shuffled_emails_portStemm"
   ]
  },
  {
   "cell_type": "code",
   "execution_count": 4,
   "id": "09906d6e-28aa-436b-8d03-fec8beafe939",
   "metadata": {},
   "outputs": [
    {
     "data": {
      "text/plain": [
       "(     label                                port_stem_processed\n",
       " 0      ham  forkadminxentcom mon sep 9 104627 2002 returnp...\n",
       " 1      ham  forkadminxentcom wed sep 25 102454 2002 return...\n",
       " 2      ham  ilugadminlinuxi fri jul 19 171450 2002 returnp...\n",
       " 3     spam  mraimecoilcipcmsncom mon jul 22 183925 2002 re...\n",
       " 4      ham  rssfeedsjmasonorg wed sep 25 102324 2002 retur...\n",
       " ...    ...                                                ...\n",
       " 4344   ham  forkadminxentcom fri sep 6 183554 2002 returnp...\n",
       " 4345  spam  beautyinfufuxxxmeb13mxyaolcom tue oct 8 110232...\n",
       " 4346  spam  receiv hqpronsnet localhost 127001 hqpronsnet ...\n",
       " 4347   ham  forkadminxentcom mon aug 12 110907 2002 return...\n",
       " 4348   ham  nobodysonicspamtrapstaintorg wed aug 7 143904 ...\n",
       " \n",
       " [4349 rows x 2 columns],\n",
       "      label                                port_stem_processed\n",
       " 0      ham  forkadminxentcom wed oct 9 105517 2002 returnp...\n",
       " 1      ham  returnpath gwardpythonnet deliveryd wed sep 11...\n",
       " 2      ham  forkadminxentcom wed oct 9 105512 2002 returnp...\n",
       " 3      ham  ilugadminlinuxi tue jul 30 105221 2002 returnp...\n",
       " 4      ham  rssfeedsjmasonorg thu oct 3 122519 2002 return...\n",
       " ...    ...                                                ...\n",
       " 1444   ham  rpmlistadminfreshrpmsnet fri jul 26 111510 200...\n",
       " 1445   ham  forkadminxentcom mon sep 23 224747 2002 return...\n",
       " 1446   ham  forkadminxentcom mon aug 26 153153 2002 return...\n",
       " 1447  spam  receiv hqpronsnet localhost 127001 hqpronsnet ...\n",
       " 1448   ham  rssfeedsjmasonorg mon sep 30 133742 2002 retur...\n",
       " \n",
       " [1449 rows x 2 columns])"
      ]
     },
     "execution_count": 4,
     "metadata": {},
     "output_type": "execute_result"
    }
   ],
   "source": [
    "#lets split up the data of 5800 rows of two columns\n",
    "seventy_five_dataset = shuffled_emails_portStemm.iloc[1:4350,:] # we use : to include all columns\n",
    "seventy_five_dataset = seventy_five_dataset.reset_index(drop=True)\n",
    "twenty_five_dataset = shuffled_emails_portStemm.iloc[4351:5800,:]\n",
    "twenty_five_dataset = twenty_five_dataset.reset_index(drop=True)\n",
    "seventy_five_dataset, twenty_five_dataset"
   ]
  },
  {
   "cell_type": "code",
   "execution_count": 5,
   "id": "d087eb08-64b7-4e5f-a4d3-cda3d82bd297",
   "metadata": {},
   "outputs": [],
   "source": [
    "#put words into list\n",
    "shuffled_emails_portStemm['port_stem_processed'] = shuffled_emails_portStemm['port_stem_processed'].str.split()"
   ]
  }
 ],
 "metadata": {
  "kernelspec": {
   "display_name": "Python 3 (ipykernel)",
   "language": "python",
   "name": "python3"
  },
  "language_info": {
   "codemirror_mode": {
    "name": "ipython",
    "version": 3
   },
   "file_extension": ".py",
   "mimetype": "text/x-python",
   "name": "python",
   "nbconvert_exporter": "python",
   "pygments_lexer": "ipython3",
   "version": "3.10.13"
  }
 },
 "nbformat": 4,
 "nbformat_minor": 5
}
