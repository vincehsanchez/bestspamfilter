{
 "cells": [
  {
   "cell_type": "markdown",
   "id": "384e77a3-ff59-4e63-bf81-3bb86576ec21",
   "metadata": {},
   "source": [
    "# EDA"
   ]
  },
  {
   "cell_type": "code",
   "execution_count": 2,
   "id": "8ec1b86b-5ec6-4989-bf38-c6d310084be7",
   "metadata": {},
   "outputs": [],
   "source": [
    "#lets get crackn\n",
    "import os\n",
    "import chardet #for detecting encoding\n",
    "from email import policy\n",
    "from email.parser import BytesParser\n",
    "#^^these two above work for MIME format^^\n",
    "import numpy as np\n",
    "import pandas as pd\n",
    "import matplotlib.pyplot as plt\n",
    "import string\n",
    "import nltk\n",
    "from nltk.corpus import stopwords\n",
    "from sklearn.feature_extraction.text import CountVectorizer #vectoring is after preporcessing\n",
    "from sklearn.model_selection import train_test_split\n",
    "import gensim\n",
    "import nltk\n",
    "from nltk.corpus import PlaintextCorpusReader\n",
    "import pandas as pd\n",
    "import mimetypes\n",
    "import pandas as pd\n",
    "import string\n",
    "from nltk.tokenize import word_tokenize\n",
    "from nltk.corpus import stopwords\n",
    "from nltk.stem import PorterStemmer\n",
    "import nltk\n",
    "#download stuff for nltk if need be\n",
    "#nltk.download('stopwords')\n",
    "#^^this is to update stopwords^^"
   ]
  },
  {
   "cell_type": "code",
   "execution_count": 4,
   "id": "df9a051a-2a02-4555-bea3-f44160c77df0",
   "metadata": {},
   "outputs": [
    {
     "data": {
      "text/html": [
       "<div>\n",
       "<style scoped>\n",
       "    .dataframe tbody tr th:only-of-type {\n",
       "        vertical-align: middle;\n",
       "    }\n",
       "\n",
       "    .dataframe tbody tr th {\n",
       "        vertical-align: top;\n",
       "    }\n",
       "\n",
       "    .dataframe thead th {\n",
       "        text-align: right;\n",
       "    }\n",
       "</style>\n",
       "<table border=\"1\" class=\"dataframe\">\n",
       "  <thead>\n",
       "    <tr style=\"text-align: right;\">\n",
       "      <th></th>\n",
       "      <th>label</th>\n",
       "      <th>port_stem_processed</th>\n",
       "    </tr>\n",
       "  </thead>\n",
       "  <tbody>\n",
       "    <tr>\n",
       "      <th>0</th>\n",
       "      <td>spam</td>\n",
       "      <td>forkadminxentcom thu aug 8 180404 2002 returnp...</td>\n",
       "    </tr>\n",
       "    <tr>\n",
       "      <th>1</th>\n",
       "      <td>ham</td>\n",
       "      <td>forkadminxentcom mon sep 9 104627 2002 returnp...</td>\n",
       "    </tr>\n",
       "    <tr>\n",
       "      <th>2</th>\n",
       "      <td>ham</td>\n",
       "      <td>forkadminxentcom wed sep 25 102454 2002 return...</td>\n",
       "    </tr>\n",
       "    <tr>\n",
       "      <th>3</th>\n",
       "      <td>ham</td>\n",
       "      <td>ilugadminlinuxi fri jul 19 171450 2002 returnp...</td>\n",
       "    </tr>\n",
       "    <tr>\n",
       "      <th>4</th>\n",
       "      <td>spam</td>\n",
       "      <td>mraimecoilcipcmsncom mon jul 22 183925 2002 re...</td>\n",
       "    </tr>\n",
       "    <tr>\n",
       "      <th>...</th>\n",
       "      <td>...</td>\n",
       "      <td>...</td>\n",
       "    </tr>\n",
       "    <tr>\n",
       "      <th>5795</th>\n",
       "      <td>ham</td>\n",
       "      <td>rpmlistadminfreshrpmsnet fri jul 26 111510 200...</td>\n",
       "    </tr>\n",
       "    <tr>\n",
       "      <th>5796</th>\n",
       "      <td>ham</td>\n",
       "      <td>forkadminxentcom mon sep 23 224747 2002 return...</td>\n",
       "    </tr>\n",
       "    <tr>\n",
       "      <th>5797</th>\n",
       "      <td>ham</td>\n",
       "      <td>forkadminxentcom mon aug 26 153153 2002 return...</td>\n",
       "    </tr>\n",
       "    <tr>\n",
       "      <th>5798</th>\n",
       "      <td>spam</td>\n",
       "      <td>receiv hqpronsnet localhost 127001 hqpronsnet ...</td>\n",
       "    </tr>\n",
       "    <tr>\n",
       "      <th>5799</th>\n",
       "      <td>ham</td>\n",
       "      <td>rssfeedsjmasonorg mon sep 30 133742 2002 retur...</td>\n",
       "    </tr>\n",
       "  </tbody>\n",
       "</table>\n",
       "<p>5800 rows × 2 columns</p>\n",
       "</div>"
      ],
      "text/plain": [
       "     label                                port_stem_processed\n",
       "0     spam  forkadminxentcom thu aug 8 180404 2002 returnp...\n",
       "1      ham  forkadminxentcom mon sep 9 104627 2002 returnp...\n",
       "2      ham  forkadminxentcom wed sep 25 102454 2002 return...\n",
       "3      ham  ilugadminlinuxi fri jul 19 171450 2002 returnp...\n",
       "4     spam  mraimecoilcipcmsncom mon jul 22 183925 2002 re...\n",
       "...    ...                                                ...\n",
       "5795   ham  rpmlistadminfreshrpmsnet fri jul 26 111510 200...\n",
       "5796   ham  forkadminxentcom mon sep 23 224747 2002 return...\n",
       "5797   ham  forkadminxentcom mon aug 26 153153 2002 return...\n",
       "5798  spam  receiv hqpronsnet localhost 127001 hqpronsnet ...\n",
       "5799   ham  rssfeedsjmasonorg mon sep 30 133742 2002 retur...\n",
       "\n",
       "[5800 rows x 2 columns]"
      ]
     },
     "execution_count": 4,
     "metadata": {},
     "output_type": "execute_result"
    }
   ],
   "source": [
    "# making all ham and spam dataframe  \n",
    "ham_spam_all_portStemm = pd.read_csv(\"Resources/processed_emails/ham_spam_portStemm.csv\")\n",
    "#lets shuffle\n",
    "shuffled_emails_portStemm = ham_spam_all_portStemm.sample(frac=1, random_state=41).reset_index(drop=True)\n",
    "shuffled_emails_portStemm = shuffled_emails_portStemm.drop(columns=['text_content'])\n",
    "shuffled_emails_portStemm"
   ]
  },
  {
   "cell_type": "code",
   "execution_count": 5,
   "id": "09906d6e-28aa-436b-8d03-fec8beafe939",
   "metadata": {},
   "outputs": [
    {
     "data": {
      "text/plain": [
       "(     label                                port_stem_processed\n",
       " 0      ham  forkadminxentcom mon sep 9 104627 2002 returnp...\n",
       " 1      ham  forkadminxentcom wed sep 25 102454 2002 return...\n",
       " 2      ham  ilugadminlinuxi fri jul 19 171450 2002 returnp...\n",
       " 3     spam  mraimecoilcipcmsncom mon jul 22 183925 2002 re...\n",
       " 4      ham  rssfeedsjmasonorg wed sep 25 102324 2002 retur...\n",
       " ...    ...                                                ...\n",
       " 4344   ham  forkadminxentcom fri sep 6 183554 2002 returnp...\n",
       " 4345  spam  beautyinfufuxxxmeb13mxyaolcom tue oct 8 110232...\n",
       " 4346  spam  receiv hqpronsnet localhost 127001 hqpronsnet ...\n",
       " 4347   ham  forkadminxentcom mon aug 12 110907 2002 return...\n",
       " 4348   ham  nobodysonicspamtrapstaintorg wed aug 7 143904 ...\n",
       " \n",
       " [4349 rows x 2 columns],\n",
       "      label                                port_stem_processed\n",
       " 0      ham  forkadminxentcom wed oct 9 105517 2002 returnp...\n",
       " 1      ham  returnpath gwardpythonnet deliveryd wed sep 11...\n",
       " 2      ham  forkadminxentcom wed oct 9 105512 2002 returnp...\n",
       " 3      ham  ilugadminlinuxi tue jul 30 105221 2002 returnp...\n",
       " 4      ham  rssfeedsjmasonorg thu oct 3 122519 2002 return...\n",
       " ...    ...                                                ...\n",
       " 1444   ham  rpmlistadminfreshrpmsnet fri jul 26 111510 200...\n",
       " 1445   ham  forkadminxentcom mon sep 23 224747 2002 return...\n",
       " 1446   ham  forkadminxentcom mon aug 26 153153 2002 return...\n",
       " 1447  spam  receiv hqpronsnet localhost 127001 hqpronsnet ...\n",
       " 1448   ham  rssfeedsjmasonorg mon sep 30 133742 2002 retur...\n",
       " \n",
       " [1449 rows x 2 columns])"
      ]
     },
     "execution_count": 5,
     "metadata": {},
     "output_type": "execute_result"
    }
   ],
   "source": [
    "#lets split up the data of 5800 rows of two columns\n",
    "seventy_five_dataset = shuffled_emails_portStemm.iloc[1:4350,:] # we use : to include all columns\n",
    "seventy_five_dataset = seventy_five_dataset.reset_index(drop=True)\n",
    "twenty_five_dataset = shuffled_emails_portStemm.iloc[4351:5800,:]\n",
    "twenty_five_dataset = twenty_five_dataset.reset_index(drop=True)\n",
    "seventy_five_dataset, twenty_five_dataset"
   ]
  },
  {
   "cell_type": "code",
   "execution_count": 6,
   "id": "8e835b18-9127-4713-bca0-941cda36568b",
   "metadata": {},
   "outputs": [],
   "source": [
    "spam_messages = seventy_five_dataset[seventy_five_dataset[\"label\"] == \"spam\"][\"port_stem_processed\"]\n",
    "ham_messages = seventy_five_dataset[seventy_five_dataset[\"label\"] == \"ham\"][\"port_stem_processed\"]"
   ]
  },
  {
   "cell_type": "code",
   "execution_count": 7,
   "id": "0c49abc6-8a5b-4f88-8234-17dd53a1746d",
   "metadata": {},
   "outputs": [
    {
     "ename": "NameError",
     "evalue": "name 'preprocess' is not defined",
     "output_type": "error",
     "traceback": [
      "\u001b[0;31m---------------------------------------------------------------------------\u001b[0m",
      "\u001b[0;31mNameError\u001b[0m                                 Traceback (most recent call last)",
      "Cell \u001b[0;32mIn[7], line 4\u001b[0m\n\u001b[1;32m      2\u001b[0m spam_words \u001b[38;5;241m=\u001b[39m []\n\u001b[1;32m      3\u001b[0m \u001b[38;5;28;01mfor\u001b[39;00m each_message \u001b[38;5;129;01min\u001b[39;00m spam_messages:\n\u001b[0;32m----> 4\u001b[0m     spam_words \u001b[38;5;241m+\u001b[39m\u001b[38;5;241m=\u001b[39m \u001b[43mpreprocess\u001b[49m(each_message)\n\u001b[1;32m      6\u001b[0m \u001b[38;5;28mprint\u001b[39m(\u001b[38;5;124mf\u001b[39m\u001b[38;5;124m\"\u001b[39m\u001b[38;5;124mTop 20 spam words are:\u001b[39m\u001b[38;5;130;01m\\n\u001b[39;00m\u001b[38;5;124m \u001b[39m\u001b[38;5;132;01m{\u001b[39;00mpd\u001b[38;5;241m.\u001b[39mSeries(spam_words)\u001b[38;5;241m.\u001b[39mvalue_counts()\u001b[38;5;241m.\u001b[39mhead(\u001b[38;5;241m20\u001b[39m)\u001b[38;5;132;01m}\u001b[39;00m\u001b[38;5;124m\"\u001b[39m)\n",
      "\u001b[0;31mNameError\u001b[0m: name 'preprocess' is not defined"
     ]
    }
   ],
   "source": [
    "# Words in spam messages\n",
    "spam_words = []\n",
    "for each_message in spam_messages:\n",
    "    spam_words += preprocess(each_message)\n",
    "    \n",
    "print(f\"Top 20 spam words are:\\n {pd.Series(spam_words).value_counts().head(20)}\")"
   ]
  },
  {
   "cell_type": "code",
   "execution_count": null,
   "id": "d087eb08-64b7-4e5f-a4d3-cda3d82bd297",
   "metadata": {},
   "outputs": [],
   "source": []
  }
 ],
 "metadata": {
  "kernelspec": {
   "display_name": "Python 3 (ipykernel)",
   "language": "python",
   "name": "python3"
  },
  "language_info": {
   "codemirror_mode": {
    "name": "ipython",
    "version": 3
   },
   "file_extension": ".py",
   "mimetype": "text/x-python",
   "name": "python",
   "nbconvert_exporter": "python",
   "pygments_lexer": "ipython3",
   "version": "3.10.13"
  }
 },
 "nbformat": 4,
 "nbformat_minor": 5
}
