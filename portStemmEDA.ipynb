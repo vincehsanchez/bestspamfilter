{
 "cells": [
  {
   "cell_type": "markdown",
   "id": "384e77a3-ff59-4e63-bf81-3bb86576ec21",
   "metadata": {},
   "source": [
    "# EDA"
   ]
  },
  {
   "cell_type": "code",
   "execution_count": 1,
   "id": "8ec1b86b-5ec6-4989-bf38-c6d310084be7",
   "metadata": {},
   "outputs": [],
   "source": [
    "#lets get crackn\n",
    "import os\n",
    "import chardet #for detecting encoding\n",
    "from email import policy\n",
    "from email.parser import BytesParser\n",
    "#^^these two above work for MIME format^^\n",
    "import numpy as np\n",
    "import pandas as pd\n",
    "import matplotlib.pyplot as plt\n",
    "import string\n",
    "import nltk\n",
    "from nltk.corpus import stopwords\n",
    "from sklearn.feature_extraction.text import CountVectorizer #vectoring is after preporcessing\n",
    "from sklearn.model_selection import train_test_split\n",
    "import gensim\n",
    "import nltk\n",
    "from nltk.corpus import PlaintextCorpusReader\n",
    "import pandas as pd\n",
    "import mimetypes\n",
    "import pandas as pd\n",
    "import string\n",
    "from nltk.tokenize import word_tokenize\n",
    "from nltk.corpus import stopwords\n",
    "from nltk.stem import PorterStemmer\n",
    "import nltk\n",
    "#download stuff for nltk if need be\n",
    "#nltk.download('stopwords')\n",
    "#^^this is to update stopwords^^"
   ]
  },
  {
   "cell_type": "code",
   "execution_count": 2,
   "id": "df9a051a-2a02-4555-bea3-f44160c77df0",
   "metadata": {},
   "outputs": [
    {
     "data": {
      "text/html": [
       "<div>\n",
       "<style scoped>\n",
       "    .dataframe tbody tr th:only-of-type {\n",
       "        vertical-align: middle;\n",
       "    }\n",
       "\n",
       "    .dataframe tbody tr th {\n",
       "        vertical-align: top;\n",
       "    }\n",
       "\n",
       "    .dataframe thead th {\n",
       "        text-align: right;\n",
       "    }\n",
       "</style>\n",
       "<table border=\"1\" class=\"dataframe\">\n",
       "  <thead>\n",
       "    <tr style=\"text-align: right;\">\n",
       "      <th></th>\n",
       "      <th>label</th>\n",
       "      <th>port_stem_processed</th>\n",
       "    </tr>\n",
       "  </thead>\n",
       "  <tbody>\n",
       "    <tr>\n",
       "      <th>0</th>\n",
       "      <td>spam</td>\n",
       "      <td>forkadminxentcom thu aug 8 180404 2002 returnp...</td>\n",
       "    </tr>\n",
       "    <tr>\n",
       "      <th>1</th>\n",
       "      <td>ham</td>\n",
       "      <td>forkadminxentcom mon sep 9 104627 2002 returnp...</td>\n",
       "    </tr>\n",
       "    <tr>\n",
       "      <th>2</th>\n",
       "      <td>ham</td>\n",
       "      <td>forkadminxentcom wed sep 25 102454 2002 return...</td>\n",
       "    </tr>\n",
       "    <tr>\n",
       "      <th>3</th>\n",
       "      <td>ham</td>\n",
       "      <td>ilugadminlinuxi fri jul 19 171450 2002 returnp...</td>\n",
       "    </tr>\n",
       "    <tr>\n",
       "      <th>4</th>\n",
       "      <td>spam</td>\n",
       "      <td>mraimecoilcipcmsncom mon jul 22 183925 2002 re...</td>\n",
       "    </tr>\n",
       "    <tr>\n",
       "      <th>...</th>\n",
       "      <td>...</td>\n",
       "      <td>...</td>\n",
       "    </tr>\n",
       "    <tr>\n",
       "      <th>5795</th>\n",
       "      <td>ham</td>\n",
       "      <td>rpmlistadminfreshrpmsnet fri jul 26 111510 200...</td>\n",
       "    </tr>\n",
       "    <tr>\n",
       "      <th>5796</th>\n",
       "      <td>ham</td>\n",
       "      <td>forkadminxentcom mon sep 23 224747 2002 return...</td>\n",
       "    </tr>\n",
       "    <tr>\n",
       "      <th>5797</th>\n",
       "      <td>ham</td>\n",
       "      <td>forkadminxentcom mon aug 26 153153 2002 return...</td>\n",
       "    </tr>\n",
       "    <tr>\n",
       "      <th>5798</th>\n",
       "      <td>spam</td>\n",
       "      <td>receiv hqpronsnet localhost 127001 hqpronsnet ...</td>\n",
       "    </tr>\n",
       "    <tr>\n",
       "      <th>5799</th>\n",
       "      <td>ham</td>\n",
       "      <td>rssfeedsjmasonorg mon sep 30 133742 2002 retur...</td>\n",
       "    </tr>\n",
       "  </tbody>\n",
       "</table>\n",
       "<p>5800 rows × 2 columns</p>\n",
       "</div>"
      ],
      "text/plain": [
       "     label                                port_stem_processed\n",
       "0     spam  forkadminxentcom thu aug 8 180404 2002 returnp...\n",
       "1      ham  forkadminxentcom mon sep 9 104627 2002 returnp...\n",
       "2      ham  forkadminxentcom wed sep 25 102454 2002 return...\n",
       "3      ham  ilugadminlinuxi fri jul 19 171450 2002 returnp...\n",
       "4     spam  mraimecoilcipcmsncom mon jul 22 183925 2002 re...\n",
       "...    ...                                                ...\n",
       "5795   ham  rpmlistadminfreshrpmsnet fri jul 26 111510 200...\n",
       "5796   ham  forkadminxentcom mon sep 23 224747 2002 return...\n",
       "5797   ham  forkadminxentcom mon aug 26 153153 2002 return...\n",
       "5798  spam  receiv hqpronsnet localhost 127001 hqpronsnet ...\n",
       "5799   ham  rssfeedsjmasonorg mon sep 30 133742 2002 retur...\n",
       "\n",
       "[5800 rows x 2 columns]"
      ]
     },
     "execution_count": 2,
     "metadata": {},
     "output_type": "execute_result"
    }
   ],
   "source": [
    "# making all ham and spam dataframe  \n",
    "ham_spam_all_portStemm = pd.read_csv(\"Resources/processed_emails/ham_spam_portStemm.csv\")\n",
    "#lets shuffle\n",
    "shuffled_emails_portStemm = ham_spam_all_portStemm.sample(frac=1, random_state=41).reset_index(drop=True)\n",
    "shuffled_emails_portStemm = shuffled_emails_portStemm.drop(columns=['text_content'])\n",
    "shuffled_emails_portStemm"
   ]
  },
  {
   "cell_type": "code",
   "execution_count": 3,
   "id": "09906d6e-28aa-436b-8d03-fec8beafe939",
   "metadata": {},
   "outputs": [
    {
     "data": {
      "text/plain": [
       "(     label                                port_stem_processed\n",
       " 0      ham  forkadminxentcom mon sep 9 104627 2002 returnp...\n",
       " 1      ham  forkadminxentcom wed sep 25 102454 2002 return...\n",
       " 2      ham  ilugadminlinuxi fri jul 19 171450 2002 returnp...\n",
       " 3     spam  mraimecoilcipcmsncom mon jul 22 183925 2002 re...\n",
       " 4      ham  rssfeedsjmasonorg wed sep 25 102324 2002 retur...\n",
       " ...    ...                                                ...\n",
       " 4344   ham  forkadminxentcom fri sep 6 183554 2002 returnp...\n",
       " 4345  spam  beautyinfufuxxxmeb13mxyaolcom tue oct 8 110232...\n",
       " 4346  spam  receiv hqpronsnet localhost 127001 hqpronsnet ...\n",
       " 4347   ham  forkadminxentcom mon aug 12 110907 2002 return...\n",
       " 4348   ham  nobodysonicspamtrapstaintorg wed aug 7 143904 ...\n",
       " \n",
       " [4349 rows x 2 columns],\n",
       "      label                                port_stem_processed\n",
       " 0      ham  forkadminxentcom wed oct 9 105517 2002 returnp...\n",
       " 1      ham  returnpath gwardpythonnet deliveryd wed sep 11...\n",
       " 2      ham  forkadminxentcom wed oct 9 105512 2002 returnp...\n",
       " 3      ham  ilugadminlinuxi tue jul 30 105221 2002 returnp...\n",
       " 4      ham  rssfeedsjmasonorg thu oct 3 122519 2002 return...\n",
       " ...    ...                                                ...\n",
       " 1444   ham  rpmlistadminfreshrpmsnet fri jul 26 111510 200...\n",
       " 1445   ham  forkadminxentcom mon sep 23 224747 2002 return...\n",
       " 1446   ham  forkadminxentcom mon aug 26 153153 2002 return...\n",
       " 1447  spam  receiv hqpronsnet localhost 127001 hqpronsnet ...\n",
       " 1448   ham  rssfeedsjmasonorg mon sep 30 133742 2002 retur...\n",
       " \n",
       " [1449 rows x 2 columns])"
      ]
     },
     "execution_count": 3,
     "metadata": {},
     "output_type": "execute_result"
    }
   ],
   "source": [
    "#lets split up the data of 5800 rows of two columns\n",
    "seventy_five_dataset = shuffled_emails_portStemm.iloc[1:4350,:] # we use : to include all columns\n",
    "seventy_five_dataset = seventy_five_dataset.reset_index(drop=True)\n",
    "twenty_five_dataset = shuffled_emails_portStemm.iloc[4351:5800,:]\n",
    "twenty_five_dataset = twenty_five_dataset.reset_index(drop=True)\n",
    "seventy_five_dataset, twenty_five_dataset"
   ]
  },
  {
   "cell_type": "code",
   "execution_count": 4,
   "id": "d087eb08-64b7-4e5f-a4d3-cda3d82bd297",
   "metadata": {},
   "outputs": [],
   "source": [
    "#put words into list\n",
    "shuffled_emails_portStemm['port_stem_processed'] = shuffled_emails_portStemm['port_stem_processed'].str.split()"
   ]
  },
  {
   "cell_type": "code",
   "execution_count": 5,
   "id": "8e835b18-9127-4713-bca0-941cda36568b",
   "metadata": {},
   "outputs": [],
   "source": [
    "import pandas as pd\n",
    "from collections import Counter\n",
    "spam_messages = shuffled_emails_portStemm[shuffled_emails_portStemm[\"label\"] == \"spam\"]\n",
    "ham_messages = shuffled_emails_portStemm[shuffled_emails_portStemm[\"label\"] == \"ham\"]"
   ]
  },
  {
   "cell_type": "code",
   "execution_count": 6,
   "id": "5fcbc351-0f6a-4f97-bc10-86a506fd1bf4",
   "metadata": {},
   "outputs": [],
   "source": [
    "spam_words = Counter([word for sublist in spam_messages['port_stem_processed'] for word in sublist])\n",
    "ham_words = Counter([word for sublist in ham_messages['port_stem_processed'] for word in sublist])"
   ]
  },
  {
   "cell_type": "code",
   "execution_count": 7,
   "id": "3d284bbb-a9a2-4f5d-be1c-10cc3d6731e2",
   "metadata": {},
   "outputs": [],
   "source": [
    "top_20_spam_words = spam_words.most_common(20)\n",
    "top_20_ham_words = ham_words.most_common(20)"
   ]
  },
  {
   "cell_type": "code",
   "execution_count": 8,
   "id": "0fecb5e8-2e56-4633-ad50-c8c82d4eb367",
   "metadata": {},
   "outputs": [
    {
     "name": "stdout",
     "output_type": "stream",
     "text": [
      "Top 20 Spam Words:\n",
      "2002: 12170\n",
      "receiv: 10279\n",
      "td: 10259\n",
      "tr: 8203\n",
      "id: 6318\n",
      "br: 4549\n",
      "jul: 4416\n",
      "tabl: 4223\n",
      "esmtp: 4207\n",
      "font: 4189\n",
      "email: 4012\n",
      "0100: 3909\n",
      "p: 3280\n",
      "localhost: 3105\n",
      "helvetica: 2847\n",
      "mon: 2622\n",
      "aug: 2585\n",
      "may: 2566\n",
      "face3dari: 2365\n",
      "subject: 2353\n"
     ]
    }
   ],
   "source": [
    "#lets print\n",
    "print(\"Top 20 Spam Words:\")\n",
    "for word, count in top_20_spam_words:\n",
    "    print(f\"{word}: {count}\")"
   ]
  },
  {
   "cell_type": "code",
   "execution_count": 9,
   "id": "40ff5ff5-a6e4-46b2-9ddc-bc73fdd4fdff",
   "metadata": {},
   "outputs": [
    {
     "name": "stdout",
     "output_type": "stream",
     "text": [
      "\n",
      "Top 20 Ham Words:\n",
      "2002: 34312\n",
      "receiv: 23731\n",
      "id: 17969\n",
      "esmtp: 14515\n",
      "0100: 12513\n",
      "localhost: 12444\n",
      "aug: 12163\n",
      "127001: 10951\n",
      "sep: 9986\n",
      "postfix: 7454\n",
      "jmlocalhost: 6929\n",
      "wed: 6370\n",
      "mon: 6212\n",
      "ist: 5760\n",
      "tue: 5669\n",
      "thu: 5594\n",
      "jul: 5555\n",
      "deliveredto: 5341\n",
      "0400: 5239\n",
      "oct: 5137\n"
     ]
    }
   ],
   "source": [
    "#lets print\n",
    "print(\"\\nTop 20 Ham Words:\")\n",
    "for word, count in top_20_ham_words:\n",
    "    print(f\"{word}: {count}\")"
   ]
  },
  {
   "cell_type": "code",
   "execution_count": 12,
   "id": "4537ffe5-ec05-49d1-90b1-b47ca2b2819e",
   "metadata": {},
   "outputs": [
    {
     "name": "stdout",
     "output_type": "stream",
     "text": [
      "            0      1\n",
      "0        2002  12170\n",
      "1      receiv  10279\n",
      "2          td  10259\n",
      "3          tr   8203\n",
      "4          id   6318\n",
      "5          br   4549\n",
      "6         jul   4416\n",
      "7        tabl   4223\n",
      "8       esmtp   4207\n",
      "9        font   4189\n",
      "10      email   4012\n",
      "11       0100   3909\n",
      "12          p   3280\n",
      "13  localhost   3105\n",
      "14  helvetica   2847\n",
      "15        mon   2622\n",
      "16        aug   2585\n",
      "17        may   2566\n",
      "18  face3dari   2365\n",
      "19    subject   2353\n"
     ]
    }
   ],
   "source": [
    "spam_words_df = pd.DataFrame(top_20_spam_words)\n",
    "print(spam_words_df)"
   ]
  },
  {
   "cell_type": "code",
   "execution_count": 26,
   "id": "4b4309dc",
   "metadata": {},
   "outputs": [],
   "source": [
    "spam_words_df.columns = ['word', 'frequency'] "
   ]
  },
  {
   "cell_type": "code",
   "execution_count": 27,
   "id": "317196c0",
   "metadata": {},
   "outputs": [
    {
     "name": "stdout",
     "output_type": "stream",
     "text": [
      "           word  frequency\n",
      "0          2002      34312\n",
      "1        receiv      23731\n",
      "2            id      17969\n",
      "3         esmtp      14515\n",
      "4          0100      12513\n",
      "5     localhost      12444\n",
      "6           aug      12163\n",
      "7        127001      10951\n",
      "8           sep       9986\n",
      "9       postfix       7454\n",
      "10  jmlocalhost       6929\n",
      "11          wed       6370\n",
      "12          mon       6212\n",
      "13          ist       5760\n",
      "14          tue       5669\n",
      "15          thu       5594\n",
      "16          jul       5555\n",
      "17  deliveredto       5341\n",
      "18         0400       5239\n",
      "19          oct       5137\n"
     ]
    }
   ],
   "source": [
    "ham_words_df = pd.DataFrame(top_20_ham_words)\n",
    "ham_words_df.columns = ['word', 'frequency'] \n",
    "print(ham_words_df)"
   ]
  },
  {
   "cell_type": "code",
   "execution_count": 37,
   "id": "e2fbc99a",
   "metadata": {},
   "outputs": [
    {
     "data": {
      "image/png": "[encoded data removed]",
      "text/plain": [
       "<Figure size 640x480 with 1 Axes>"
      ]
     },
     "metadata": {},
     "output_type": "display_data"
    }
   ],
   "source": [
    "spam = spam_words_df.plot.barh(x='word', y='frequency',rot=0)"
   ]
  },
  {
   "cell_type": "code",
   "execution_count": 36,
   "id": "88501363",
   "metadata": {},
   "outputs": [
    {
     "data": {
      "image/png": "[encoded data removed]",
      "text/plain": [
       "<Figure size 640x480 with 1 Axes>"
      ]
     },
     "metadata": {},
     "output_type": "display_data"
    }
   ],
   "source": [
    "ham = ham_words_df.plot.barh(x='word', y='frequency',rot=0)"
   ]
  },
  {
   "cell_type": "code",
   "execution_count": null,
   "id": "98e597a7",
   "metadata": {},
   "outputs": [],
   "source": []
  }
 ],
 "metadata": {
  "kernelspec": {
   "display_name": "Python 3 (ipykernel)",
   "language": "python",
   "name": "python3"
  },
  "language_info": {
   "codemirror_mode": {
    "name": "ipython",
    "version": 3
   },
   "file_extension": ".py",
   "mimetype": "text/x-python",
   "name": "python",
   "nbconvert_exporter": "python",
   "pygments_lexer": "ipython3",
   "version": "3.11.4"
  }
 },
 "nbformat": 4,
 "nbformat_minor": 5
}
