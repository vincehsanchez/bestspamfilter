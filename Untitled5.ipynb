{
 "cells": [
  {
   "cell_type": "code",
   "execution_count": null,
   "id": "8c0c77a5-6d1a-468d-aa8e-aa8044c680e9",
   "metadata": {},
   "outputs": [],
   "source": [
    "import mimetypes\n",
    "import os  # This import is required to use os.listdir and os.path.join\n",
    "\n",
    "class Corpus:\n",
    "    def __init__(self):\n",
    "        self.documents = []\n",
    "\n",
    "    def add_document(self, document):\n",
    "        self.documents.append(document)\n",
    "\n",
    "def add_mime_text_files_to_corpus(corpus, directory):\n",
    "    \"\"\"Adds all MIME text files in the given directory to the given corpus.\n",
    "\n",
    "    Args:\n",
    "      corpus: A corpus object.\n",
    "      directory: The directory containing the MIME text files.\n",
    "    \"\"\"\n",
    "\n",
    "    for filename in os.listdir(directory):\n",
    "        filepath = os.path.join(directory, filename)\n",
    "        mimetype = mimetypes.guess_type(filepath)[0]\n",
    "        if mimetype == \"text/plain\":\n",
    "            with open(filepath, \"r\") as f:\n",
    "                corpus.add_document(f.read())\n",
    "\n",
    "# Example usage:\n",
    "\n",
    "corpus = Corpus()\n",
    "add_mime_text_files_to_corpus(corpus, \"Resources/eh_uno_corpus\")\n"
   ]
  },
  {
   "cell_type": "code",
   "execution_count": null,
   "id": "96a2d85c-f1c1-4e9c-adf0-96013340a768",
   "metadata": {},
   "outputs": [],
   "source": [
    "import nltk\n",
    "from nltk.corpus import PlaintextCorpusReader\n",
    "\n",
    "# Create a corpus reader for the MIME text files\n",
    "corpus_reader = PlaintextCorpusReader('Resources/eh_uno_corpus', '.*\\.txt')\n",
    "\n",
    "# Add the corpus to NLTK\n",
    "nltk.corpus.reader.add_corpus(corpus_reader)\n",
    "\n",
    "# Print the contents of the corpus\n",
    "print(corpus_reader.raw())\n",
    "\n",
    "# Get the contents of the first file in the corpus\n",
    "file_contents = corpus_reader.raw('path/to/file.txt')\n",
    "\n",
    "# Print the contents of the file\n",
    "print(file_contents)"
   ]
  },
  {
   "cell_type": "code",
   "execution_count": null,
   "id": "3a8556cc-bc49-473e-900d-75551d723429",
   "metadata": {},
   "outputs": [],
   "source": [
    "import pandas as pd\n",
    "import mimetypes\n",
    "\n",
    "# Create a pandas dataframe\n",
    "df = pd.DataFrame()\n",
    "\n",
    "# Add a column for the mime type\n",
    "df['mime_type'] = []\n",
    "\n",
    "# Add a column for the text content\n",
    "df['text_content'] = []\n",
    "\n",
    "# Iterate over the mime text files\n",
    "for file in files:\n",
    "\n",
    "    # Get the mime type of the file\n",
    "    mime_type = mimetypes.guess_type(file)[0]\n",
    "\n",
    "    # Read the text content of the file\n",
    "    with open(file, 'r') as f:\n",
    "        text_content = f.read()\n",
    "\n",
    "    # Add the mime type and text content to the dataframe\n",
    "    df = df.append({'mime_type': mime_type, 'text_content': text_content}, ignore_index=True)\n",
    "\n",
    "# Print the dataframe\n",
    "print(df)"
   ]
  }
 ],
 "metadata": {
  "kernelspec": {
   "display_name": "Python 3 (ipykernel)",
   "language": "python",
   "name": "python3"
  },
  "language_info": {
   "codemirror_mode": {
    "name": "ipython",
    "version": 3
   },
   "file_extension": ".py",
   "mimetype": "text/x-python",
   "name": "python",
   "nbconvert_exporter": "python",
   "pygments_lexer": "ipython3",
   "version": "3.10.13"
  }
 },
 "nbformat": 4,
 "nbformat_minor": 5
}
