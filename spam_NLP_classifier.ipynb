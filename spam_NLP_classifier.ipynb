{
 "cells": [
  {
   "cell_type": "code",
   "execution_count": 1,
   "id": "b84d827a-13fd-4b4c-abb1-ac8627d96a9b",
   "metadata": {},
   "outputs": [],
   "source": [
    "##vs branch testing\n",
    "\n",
    "#what to do for visualizzation piece in notebooks\n",
    "\n",
    "##vidsuaslizations fine in JN\n",
    "\n",
    "##databricks\n",
    "\n",
    "#nlp visualizations \n",
    "## we can do a heatmap of words or phrases that are \"spammy\"\n",
    "##we can do a word cloud of words or phrases that are \"spammy\"\n",
    "\n",
    "#unsupervised learning"
   ]
  },
  {
   "cell_type": "code",
   "execution_count": 2,
   "id": "efa40f90-9584-4748-b217-097cc14a516c",
   "metadata": {},
   "outputs": [
    {
     "name": "stderr",
     "output_type": "stream",
     "text": [
      "[nltk_data] Downloading package stopwords to\n",
      "[nltk_data]     /Users/vincehsanchez/nltk_data...\n",
      "[nltk_data]   Package stopwords is already up-to-date!\n"
     ]
    },
    {
     "data": {
      "text/plain": [
       "True"
      ]
     },
     "execution_count": 2,
     "metadata": {},
     "output_type": "execute_result"
    }
   ],
   "source": [
    "#lets get crackn\n",
    "import os\n",
    "import numpy as np\n",
    "import pandas as pd\n",
    "import matplotlib.pyplot as plt\n",
    "import string\n",
    "import nltk\n",
    "from nltk.corpus import stopwords\n",
    "from sklearn.feature_extraction.text import CountVectorizer #vectoring is after preporcessing\n",
    "from sklearn.model_selection import train_test_split\n",
    "#download stuff for nltk if need be\n",
    "nltk.download('stopwords')"
   ]
  },
  {
   "cell_type": "code",
   "execution_count": 3,
   "id": "5e913af0-02bc-4263-8895-385bf06d8597",
   "metadata": {},
   "outputs": [],
   "source": [
    "##^^i think 'True' is a good thing.."
   ]
  },
  {
   "cell_type": "code",
   "execution_count": 9,
   "id": "007608e8-2bc1-49b3-879e-6acdd05a7047",
   "metadata": {},
   "outputs": [],
   "source": [
    "#lets build an oven (corpus)\n",
    "##ham_folder_easy_uno = 'Resources/easy_ham_uno'\n",
    "##spam_folder_uno = 'Resources/spam_uno'\n",
    "ham_test_folder = 'Resources/ham_testing_renaming'\n",
    "#^^paths to our email datasets^^\n",
    "#we need to mark which emails are spam or ham so have lists for emails and labels\n",
    "emails = []\n",
    "labels = []\n",
    "#read the text files from our folders and give them labels\n",
    "def read_files(folder, label):\n",
    "    files = os.listdir(folder)\n",
    "    for file in files:\n",
    "        with open(os.path.join(folder, file), 'r', encoding='Windows-1252') as f:\n",
    "            #UTF-8 does not work, Windows-1252 works!\n",
    "            ##use chardet if we have any hiccups...\n",
    "            #https://stackoverflow.com/questions/436220/how-to-determine-the-encoding-of-text\n",
    "            emails.append(f.read())\n",
    "            labels.append(label)\n",
    "#read ham and spam\n",
    "read_files(ham_test_folder, 'test')\n",
    "##read_files(ham_folder_easy_uno, 'ham')\n",
    "##read_files(spam_folder_uno, 'spam')"
   ]
  },
  {
   "cell_type": "code",
   "execution_count": 10,
   "id": "c9e4df64-2d62-4025-a3ba-968439f7bb7a",
   "metadata": {},
   "outputs": [
    {
     "ename": "NameError",
     "evalue": "name 'df' is not defined",
     "output_type": "error",
     "traceback": [
      "\u001b[0;31m---------------------------------------------------------------------------\u001b[0m",
      "\u001b[0;31mNameError\u001b[0m                                 Traceback (most recent call last)",
      "Cell \u001b[0;32mIn[10], line 5\u001b[0m\n\u001b[1;32m      3\u001b[0m ham_test_df \u001b[38;5;241m=\u001b[39m pd\u001b[38;5;241m.\u001b[39mDataFrame({\u001b[38;5;124m'\u001b[39m\u001b[38;5;124mEmail\u001b[39m\u001b[38;5;124m'\u001b[39m:emails, \u001b[38;5;124m'\u001b[39m\u001b[38;5;124mLabel\u001b[39m\u001b[38;5;124m'\u001b[39m:labels})\n\u001b[1;32m      4\u001b[0m \u001b[38;5;66;03m#save as csv\u001b[39;00m\n\u001b[0;32m----> 5\u001b[0m \u001b[43mdf\u001b[49m\u001b[38;5;241m.\u001b[39mto_csv(\u001b[38;5;124m'\u001b[39m\u001b[38;5;124mham_testing_labeled.csv\u001b[39m\u001b[38;5;124m'\u001b[39m, index\u001b[38;5;241m=\u001b[39m\u001b[38;5;28;01mFalse\u001b[39;00m)\n",
      "\u001b[0;31mNameError\u001b[0m: name 'df' is not defined"
     ]
    }
   ],
   "source": [
    "#lets see if the oven cooks everything evenly\n",
    "#test if our list is properly read and we see the same amount of emails as we asked it to read\n",
    "ham_test_df = pd.DataFrame({'Email':emails, 'Label':labels})\n",
    "#save as csv\n",
    "ham_test_df.to_csv('Resources/Labeled_CSVs/ham_testing_labeled.csv', index=False)"
   ]
  }
 ],
 "metadata": {
  "kernelspec": {
   "display_name": "Python 3 (ipykernel)",
   "language": "python",
   "name": "python3"
  },
  "language_info": {
   "codemirror_mode": {
    "name": "ipython",
    "version": 3
   },
   "file_extension": ".py",
   "mimetype": "text/x-python",
   "name": "python",
   "nbconvert_exporter": "python",
   "pygments_lexer": "ipython3",
   "version": "3.10.13"
  }
 },
 "nbformat": 4,
 "nbformat_minor": 5
}
