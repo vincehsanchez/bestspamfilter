{
 "cells": [
  {
   "cell_type": "code",
   "execution_count": null,
   "id": "b84d827a-13fd-4b4c-abb1-ac8627d96a9b",
   "metadata": {},
   "outputs": [],
   "source": [
    "##vs branch testing\n",
    "\n",
    "#what to do for visualizzation piece in notebooks\n",
    "\n",
    "##vidsuaslizations fine in JN\n",
    "\n",
    "##databricks\n",
    "\n",
    "#nlp visualizations \n",
    "## we can do a heatmap of words or phrases that are \"spammy\"\n",
    "##we can do a word cloud of words or phrases that are \"spammy\"\n",
    "\n",
    "#unsupervised learning"
   ]
  },
  {
   "cell_type": "code",
   "execution_count": 1,
   "id": "efa40f90-9584-4748-b217-097cc14a516c",
   "metadata": {},
   "outputs": [
    {
     "name": "stderr",
     "output_type": "stream",
     "text": [
      "[nltk_data] Downloading package stopwords to\n",
      "[nltk_data]     /Users/vincehsanchez/nltk_data...\n",
      "[nltk_data]   Package stopwords is already up-to-date!\n"
     ]
    },
    {
     "data": {
      "text/plain": [
       "True"
      ]
     },
     "execution_count": 1,
     "metadata": {},
     "output_type": "execute_result"
    }
   ],
   "source": [
    "#lets get crackn\n",
    "import os\n",
    "import numpy as np\n",
    "import pandas as pd\n",
    "import matplotlib.pyplot as plt\n",
    "import string\n",
    "import nltk\n",
    "from nltk.corpus import stopwords\n",
    "from sklearn.feature_extraction.text import CountVectorizer #vectoring is after preporcessing\n",
    "from sklearn.model_selection import train_test_split\n",
    "#download stuff for nltk if need be\n",
    "nltk.download('stopwords')"
   ]
  },
  {
   "cell_type": "code",
   "execution_count": 2,
   "id": "5e913af0-02bc-4263-8895-385bf06d8597",
   "metadata": {},
   "outputs": [],
   "source": [
    "##^^i think 'True' is a good thing.."
   ]
  },
  {
   "cell_type": "code",
   "execution_count": 3,
   "id": "007608e8-2bc1-49b3-879e-6acdd05a7047",
   "metadata": {},
   "outputs": [],
   "source": [
    "#lets build an oven (corpus)\n",
    "ham_folder_easy = 'Resources/easy'\n",
    "spam_folder_uno = 'Rresources/spam_folder_uno'\n",
    "#^^paths to our email datasets^^\n",
    "#we need to mark which emails are lists for emails and labels of ham and spam\n",
    "emails = []\n",
    "labels = []\n"
   ]
  },
  {
   "cell_type": "code",
   "execution_count": null,
   "id": "c9e4df64-2d62-4025-a3ba-968439f7bb7a",
   "metadata": {},
   "outputs": [],
   "source": []
  }
 ],
 "metadata": {
  "kernelspec": {
   "display_name": "Python 3 (ipykernel)",
   "language": "python",
   "name": "python3"
  },
  "language_info": {
   "codemirror_mode": {
    "name": "ipython",
    "version": 3
   },
   "file_extension": ".py",
   "mimetype": "text/x-python",
   "name": "python",
   "nbconvert_exporter": "python",
   "pygments_lexer": "ipython3",
   "version": "3.10.13"
  }
 },
 "nbformat": 4,
 "nbformat_minor": 5
}
